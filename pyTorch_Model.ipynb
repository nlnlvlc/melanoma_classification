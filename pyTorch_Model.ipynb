{
  "nbformat": 4,
  "nbformat_minor": 0,
  "metadata": {
    "kernelspec": {
      "name": "python3",
      "display_name": "Python 3"
    },
    "colab": {
      "name": "pyTorch Model.ipynb",
      "provenance": [],
      "collapsed_sections": []
    },
    "accelerator": "GPU"
  },
  "cells": [
    {
      "cell_type": "code",
      "metadata": {
        "id": "I2lCKs4mFkfL"
      },
      "source": [
        "import numpy as np\n",
        "import pandas as pd\n",
        "import seaborn as sns\n",
        "from tqdm.notebook import tqdm\n",
        "import matplotlib.pyplot as plt\n",
        "import torch\n",
        "import torchvision\n",
        "import torch.nn as nn\n",
        "import torch.optim as optim\n",
        "import torch.nn.functional as F\n",
        "from torchvision import transforms, utils, datasets\n",
        "from torch.utils.data import Dataset, DataLoader, SubsetRandomSampler\n",
        "from sklearn.metrics import classification_report, confusion_matrix\n",
        "\n",
        "import warnings\n",
        "warnings.filterwarnings('ignore')"
      ],
      "execution_count": null,
      "outputs": []
    },
    {
      "cell_type": "code",
      "metadata": {
        "id": "WZcNfXfRF9cJ"
      },
      "source": [
        "from google.colab import drive\n",
        "drive.mount('/content/gdrive')"
      ],
      "execution_count": null,
      "outputs": []
    },
    {
      "cell_type": "code",
      "metadata": {
        "id": "Ert6xX0XFkfS"
      },
      "source": [
        "%matplotlib inline\n",
        "sns.set_style('darkgrid')"
      ],
      "execution_count": null,
      "outputs": []
    },
    {
      "cell_type": "code",
      "metadata": {
        "id": "vZghPXcsFkfO"
      },
      "source": [
        "np.random.seed(0)\n",
        "torch.manual_seed(0)"
      ],
      "execution_count": null,
      "outputs": []
    },
    {
      "cell_type": "code",
      "metadata": {
        "id": "34dX6tMNFkfU"
      },
      "source": [
        "device = torch.device(\"cuda\" if torch.cuda.is_available() else \"cpu\")\n",
        "print(\"We're using =>\", device)"
      ],
      "execution_count": null,
      "outputs": []
    },
    {
      "cell_type": "code",
      "metadata": {
        "id": "l3JMHp71FkfW"
      },
      "source": [
        "root_dir = \"/content/gdrive/My Drive/Colab Notebooks/melanoma_classification/siim-isic-melanoma-classification/torch_jpeg/\"\n",
        "print(\"The data lies here =>\", root_dir)"
      ],
      "execution_count": null,
      "outputs": []
    },
    {
      "cell_type": "code",
      "metadata": {
        "id": "tPHUCk_uFkfZ"
      },
      "source": [
        "image_transforms = {\n",
        "    \"train\": transforms.Compose([\n",
        "        transforms.Resize((512, 512)),\n",
        "        transforms.ToTensor()\n",
        "    ]),\n",
        "    \"test\": transforms.Compose([\n",
        "        transforms.Resize((512, 512)),\n",
        "        transforms.ToTensor()\n",
        "    ])\n",
        "        }"
      ],
      "execution_count": null,
      "outputs": []
    },
    {
      "cell_type": "code",
      "metadata": {
        "scrolled": true,
        "id": "TNt76eyaFkfc"
      },
      "source": [
        "melanoma_dataset = datasets.ImageFolder(root = root_dir + \"train\",\n",
        "                                      transform = image_transforms[\"train\"]\n",
        "                                     )\n",
        "melanoma_dataset"
      ],
      "execution_count": null,
      "outputs": []
    },
    {
      "cell_type": "code",
      "metadata": {
        "id": "JbKKt0WhFkff"
      },
      "source": [
        "melanoma_dataset.class_to_idx"
      ],
      "execution_count": null,
      "outputs": []
    },
    {
      "cell_type": "code",
      "metadata": {
        "id": "X8iP00Q0Fkfh"
      },
      "source": [
        "idx2class = {v: k for k, v in melanoma_dataset.class_to_idx.items()}"
      ],
      "execution_count": null,
      "outputs": []
    },
    {
      "cell_type": "code",
      "metadata": {
        "id": "QkJtanczFkfk"
      },
      "source": [
        "# def get_class_distribution(dataset_obj):\n",
        "#     count_dict = {k:0 for k,v in dataset_obj.class_to_idx.items()}\n",
        "#     for _, label_id in dataset_obj:\n",
        "#       label = idx2class[label_id]\n",
        "#       count_dict[label] += 1\n",
        "#     return count_dict\n",
        "# def plot_from_dict(dict_obj, plot_title, **kwargs):\n",
        "#     return sns.barplot(data = pd.DataFrame.from_dict([dict_obj]).melt(), x = \"variable\", y=\"value\", hue=\"variable\", **kwargs).set_title(plot_title)\n",
        "# plt.figure(figsize=(15,8))\n",
        "# plot_from_dict(get_class_distribution(melanoma_dataset), plot_title=\"Entire Dataset (before train/val/test split)\")"
      ],
      "execution_count": null,
      "outputs": []
    },
    {
      "cell_type": "code",
      "metadata": {
        "id": "MUjqbf6mFkfm"
      },
      "source": [
        "melanoma_dataset_size = len(melanoma_dataset)\n",
        "melanoma_dataset_indices = list(range(melanoma_dataset_size))"
      ],
      "execution_count": null,
      "outputs": []
    },
    {
      "cell_type": "code",
      "metadata": {
        "id": "63KXwP-eFkfo"
      },
      "source": [
        "np.random.shuffle(melanoma_dataset_indices)"
      ],
      "execution_count": null,
      "outputs": []
    },
    {
      "cell_type": "code",
      "metadata": {
        "id": "SUDB-7eKFkfs"
      },
      "source": [
        "val_split_index = int(np.floor(0.20 * melanoma_dataset_size))"
      ],
      "execution_count": null,
      "outputs": []
    },
    {
      "cell_type": "code",
      "metadata": {
        "id": "SLr7roZlFkfv"
      },
      "source": [
        "train_idx, val_idx = melanoma_dataset_indices[val_split_index:], melanoma_dataset_indices[:val_split_index]"
      ],
      "execution_count": null,
      "outputs": []
    },
    {
      "cell_type": "code",
      "metadata": {
        "id": "tC0GcuumFkfx"
      },
      "source": [
        "train_sampler = SubsetRandomSampler(train_idx)\n",
        "val_sampler = SubsetRandomSampler(val_idx)"
      ],
      "execution_count": null,
      "outputs": []
    },
    {
      "cell_type": "code",
      "metadata": {
        "id": "B9kK2f-9Fkfz"
      },
      "source": [
        "melanoma_dataset_test = datasets.ImageFolder(root = root_dir + \"test\",\n",
        "                                            transform = image_transforms[\"test\"]\n",
        "                                           )\n",
        "melanoma_dataset_test"
      ],
      "execution_count": null,
      "outputs": []
    },
    {
      "cell_type": "code",
      "metadata": {
        "id": "cqoEc18iFkf2"
      },
      "source": [
        "train_loader = DataLoader(dataset=melanoma_dataset, shuffle=False, batch_size=500, sampler=train_sampler)\n",
        "val_loader = DataLoader(dataset=melanoma_dataset, shuffle=False, batch_size=100, sampler=val_sampler)\n",
        "test_loader = DataLoader(dataset=melanoma_dataset_test, shuffle=False, batch_size=80)\n"
      ],
      "execution_count": null,
      "outputs": []
    },
    {
      "cell_type": "code",
      "metadata": {
        "id": "h4VNLKwkFkf6"
      },
      "source": [
        "# def get_class_distribution_loaders(dataloader_obj, dataset_obj):\n",
        "#     count_dict = {k:0 for k,v in dataset_obj.class_to_idx.items()}\n",
        "#     if dataloader_obj.batch_size == 1: \n",
        "#    # if dataloader_obj.batch_size == 32: \n",
        "#         for _,label_id in dataloader_obj:\n",
        "#             y_idx = label_id.item()\n",
        "#             y_lbl = idx2class[y_idx]\n",
        "#             count_dict[str(y_lbl)] += 1\n",
        "#     else: \n",
        "#         for _,label_id in dataloader_obj:\n",
        "#             for idx in label_id:\n",
        "#                 y_idx = idx.item()\n",
        "#                 y_lbl = idx2class[y_idx]\n",
        "#                 count_dict[str(y_lbl)] += 1\n",
        "#     return count_dict"
      ],
      "execution_count": null,
      "outputs": []
    },
    {
      "cell_type": "code",
      "metadata": {
        "id": "rIcMgJoEFkf8"
      },
      "source": [
        "# fig, axes = plt.subplots(nrows=1, ncols=2, figsize=(18,7))\n",
        "# plot_from_dict(get_class_distribution_loaders(train_loader, melanoma_dataset), plot_title=\"Train Set\", ax=axes[0])\n",
        "# plot_from_dict(get_class_distribution_loaders(val_loader, melanoma_dataset), plot_title=\"Val Set\", ax=axes[1])"
      ],
      "execution_count": null,
      "outputs": []
    },
    {
      "cell_type": "code",
      "metadata": {
        "id": "dFMmxBEoFkf_"
      },
      "source": [
        "single_batch = next(iter(train_loader))"
      ],
      "execution_count": null,
      "outputs": []
    },
    {
      "cell_type": "code",
      "metadata": {
        "id": "6LI6lUbzFkgB"
      },
      "source": [
        "single_batch[0].shape"
      ],
      "execution_count": null,
      "outputs": []
    },
    {
      "cell_type": "code",
      "metadata": {
        "id": "PKGDBvaJFkgD"
      },
      "source": [
        "print(\"Output label tensors: \", single_batch[1])\n",
        "print(\"\\nOutput label tensor shape: \", single_batch[1].shape)"
      ],
      "execution_count": null,
      "outputs": []
    },
    {
      "cell_type": "code",
      "metadata": {
        "id": "ubpdpVDNFkgF"
      },
      "source": [
        "# Selecting the first image tensor from the batch. \n",
        "single_image = single_batch[0][0]\n",
        "single_image.shape"
      ],
      "execution_count": null,
      "outputs": []
    },
    {
      "cell_type": "code",
      "metadata": {
        "id": "vQPcdPQ1FkgI"
      },
      "source": [
        "#plt.imshow(single_image.(1, 2, 0))\n",
        "\n",
        "plt.imshow(single_image.permute(1, 2, 0))"
      ],
      "execution_count": null,
      "outputs": []
    },
    {
      "cell_type": "code",
      "metadata": {
        "id": "6bNJyAzWFkgK"
      },
      "source": [
        "# We do single_batch[0] because each batch is a list \n",
        "# where the 0th index is the image tensor and 1st index is the output label.\n",
        "single_batch_grid = utils.make_grid(single_batch[0], nrow=4)\n",
        "plt.figure(figsize = (10,10))\n",
        "plt.imshow(single_batch_grid.permute(1, 2, 0))"
      ],
      "execution_count": null,
      "outputs": []
    },
    {
      "cell_type": "code",
      "metadata": {
        "id": "mAYXrXpCFkgM"
      },
      "source": [
        "class melanomaClassifier(nn.Module):\n",
        "    def __init__(self):\n",
        "        super(melanomaClassifier, self).__init__()\n",
        "        self.block1 = self.conv_block(c_in=3, c_out=256, dropout=0.2, kernel_size=5, stride=1, padding=2)\n",
        "        self.block2 = self.conv_block(c_in=256, c_out=128, dropout=0.2, kernel_size=3, stride=1, padding=1)\n",
        "        self.block3 = self.conv_block(c_in=128, c_out=64, dropout=0.2, kernel_size=3, stride=1, padding=1)\n",
        "        self.lastcnn = nn.Conv2d(in_channels=64, out_channels=2, kernel_size=16, stride=1, padding=0)\n",
        "        self.maxpool = nn.MaxPool2d(kernel_size=2, stride=2)\n",
        "        \n",
        "    def forward(self, x):\n",
        "        x = self.block1(x)\n",
        "        x = self.maxpool(x)\n",
        "        x = self.block2(x)\n",
        "        x = self.block3(x)\n",
        "        x = self.maxpool(x)\n",
        "        x = self.lastcnn(x)\n",
        "        return x\n",
        "    def conv_block(self, c_in, c_out, dropout,  **kwargs):\n",
        "        seq_block = nn.Sequential(\n",
        "            nn.Conv2d(in_channels=c_in, out_channels=c_out, **kwargs),\n",
        "            nn.BatchNorm2d(num_features=c_out),\n",
        "            nn.ReLU(),\n",
        "            nn.Dropout2d(p=dropout)\n",
        "        )\n",
        "        return seq_block"
      ],
      "execution_count": null,
      "outputs": []
    },
    {
      "cell_type": "code",
      "metadata": {
        "id": "j5SR657UFkgP"
      },
      "source": [
        "model = melanomaClassifier()\n",
        "model.to(device)\n",
        "print(model)\n",
        "criterion = nn.CrossEntropyLoss()\n",
        "optimizer = optim.Adam(model.parameters(), lr=0.008)"
      ],
      "execution_count": null,
      "outputs": []
    },
    {
      "cell_type": "code",
      "metadata": {
        "id": "4gPS7cmGOTiI"
      },
      "source": [
        "# weights = list(model.parameters())\n",
        "# weights"
      ],
      "execution_count": null,
      "outputs": []
    },
    {
      "cell_type": "code",
      "metadata": {
        "id": "VIOZ7hygFkgR"
      },
      "source": [
        "def binary_acc(y_pred, y_test):\n",
        "    y_pred_tag = torch.log_softmax(y_pred, dim = 1)\n",
        "    _, y_pred_tags = torch.max(y_pred_tag, dim = 1)\n",
        "    correct_results_sum = (y_pred_tags == y_test).sum().float()\n",
        "    acc = correct_results_sum/y_test.shape[0]\n",
        "    acc = torch.round(acc * 100)\n",
        "    return acc"
      ],
      "execution_count": null,
      "outputs": []
    },
    {
      "cell_type": "code",
      "metadata": {
        "id": "VW9zMFD9FkgT"
      },
      "source": [
        "accuracy_stats = {\n",
        "    'train': [],\n",
        "    \"val\": []\n",
        "}\n",
        "loss_stats = {\n",
        "    'train': [],\n",
        "    \"val\": []\n",
        "}"
      ],
      "execution_count": null,
      "outputs": []
    },
    {
      "cell_type": "code",
      "metadata": {
        "id": "Kf-ftUFxFkgV"
      },
      "source": [
        "print(\"Begin training.\")\n",
        "for e in tqdm(range(1, 21)):\n",
        "    # TRAINING\n",
        "    train_epoch_loss = 0\n",
        "    train_epoch_acc = 0\n",
        "    model.train()\n",
        "    for X_train_batch, y_train_batch in train_loader:\n",
        "        X_train_batch, y_train_batch = X_train_batch.to(device), y_train_batch.to(device)\n",
        "        optimizer.zero_grad()\n",
        "        y_train_pred = model(X_train_batch).squeeze()\n",
        "        train_loss = criterion(y_train_pred, y_train_batch)\n",
        "        train_acc = binary_acc(y_train_pred, y_train_batch)\n",
        "        train_loss.backward()\n",
        "        optimizer.step()\n",
        "        train_epoch_loss += train_loss.item()\n",
        "        train_epoch_acc += train_acc.item()\n",
        "    # VALIDATION\n",
        "    with torch.no_grad():\n",
        "        model.eval()\n",
        "        val_epoch_loss = 0\n",
        "        val_epoch_acc = 0\n",
        "        for X_val_batch, y_val_batch in val_loader:\n",
        "            X_val_batch, y_val_batch = X_val_batch.to(device), y_val_batch.to(device)\n",
        "            y_val_pred = model(X_val_batch).squeeze()\n",
        "            y_val_pred = torch.unsqueeze(y_val_pred, 0)\n",
        "            val_loss = criterion(y_val_pred, y_val_batch)\n",
        "            val_acc = binary_acc(y_val_pred, y_val_batch)\n",
        "            val_epoch_loss += train_loss.item()\n",
        "            val_epoch_acc += train_acc.item()\n",
        "    loss_stats['train'].append(train_epoch_loss/len(train_loader))\n",
        "    loss_stats['val'].append(val_epoch_loss/len(val_loader))\n",
        "    accuracy_stats['train'].append(train_epoch_acc/len(train_loader))\n",
        "    accuracy_stats['val'].append(val_epoch_acc/len(val_loader))\n",
        "    print(f'Epoch {e+0:02}: | Train Loss: {train_epoch_loss/len(train_loader):.5f} | Val Loss: {val_epoch_loss/len(val_loader):.5f} | Train Acc: {train_epoch_acc/len(train_loader):.3f}| Val Acc: {val_epoch_acc/len(val_loader):.3f}')"
      ],
      "execution_count": null,
      "outputs": []
    },
    {
      "cell_type": "code",
      "metadata": {
        "id": "PgnEBRSNFkgX"
      },
      "source": [
        "train_val_acc_df = pd.DataFrame.from_dict(accuracy_stats).reset_index().melt(id_vars=['index']).rename(columns={\"index\":\"epochs\"})\n",
        "train_val_loss_df = pd.DataFrame.from_dict(loss_stats).reset_index().melt(id_vars=['index']).rename(columns={\"index\":\"epochs\"})\n",
        "fig, axes = plt.subplots(nrows=1, ncols=2, figsize=(30,10))\n",
        "sns.lineplot(data=train_val_acc_df, x = \"epochs\", y=\"value\", hue=\"variable\",  ax=axes[0]).set_title('Train-Val Accuracy/Epoch')\n",
        "sns.lineplot(data=train_val_loss_df, x = \"epochs\", y=\"value\", hue=\"variable\", ax=axes[1]).set_title('Train-Val Loss/Epoch')"
      ],
      "execution_count": null,
      "outputs": []
    },
    {
      "cell_type": "code",
      "metadata": {
        "id": "O-l8ic5WFkgZ"
      },
      "source": [
        "y_pred_list = []\n",
        "y_true_list = []\n",
        "with torch.no_grad():\n",
        "    for x_batch, y_batch in tqdm(test_loader):\n",
        "        x_batch, y_batch = x_batch.to(device), y_batch.to(device)\n",
        "        y_test_pred = model(x_batch)\n",
        "        y_test_pred = torch.log_softmax(y_test_pred, dim=1)\n",
        "        _, y_pred_tag = torch.max(y_test_pred, dim = 1)\n",
        "        y_pred_list.append(y_pred_tag.cpu().numpy())\n",
        "        y_true_list.append(y_batch.cpu().numpy())"
      ],
      "execution_count": null,
      "outputs": []
    },
    {
      "cell_type": "code",
      "metadata": {
        "id": "DK0m9cahFkgb"
      },
      "source": [
        "y_pred_list = [i[0][0][0] for i in y_pred_list]\n",
        "y_true_list = [i[0] for i in y_true_list]"
      ],
      "execution_count": null,
      "outputs": []
    },
    {
      "cell_type": "code",
      "metadata": {
        "id": "G14oz7zhFkgd"
      },
      "source": [
        "print(classification_report(y_true_list, y_pred_list))"
      ],
      "execution_count": null,
      "outputs": []
    },
    {
      "cell_type": "code",
      "metadata": {
        "id": "4kOTduWPFkgf"
      },
      "source": [
        "print(confusion_matrix(y_true_list, y_pred_list))\n"
      ],
      "execution_count": null,
      "outputs": []
    },
    {
      "cell_type": "code",
      "metadata": {
        "id": "OncQTyU1Fkgh"
      },
      "source": [
        "confusion_matrix_df = pd.DataFrame(confusion_matrix(y_true_list, y_pred_list)).rename(columns=idx2class, index=idx2class)\n",
        "fig, ax = plt.subplots(figsize=(7,5))         \n",
        "sns.heatmap(confusion_matrix_df, annot=True, ax=ax)"
      ],
      "execution_count": null,
      "outputs": []
    },
    {
      "cell_type": "code",
      "metadata": {
        "id": "emVHL0f1Fkgk"
      },
      "source": [
        ""
      ],
      "execution_count": null,
      "outputs": []
    }
  ]
}