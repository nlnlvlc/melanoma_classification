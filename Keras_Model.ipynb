{
  "nbformat": 4,
  "nbformat_minor": 0,
  "metadata": {
    "kernelspec": {
      "name": "python3",
      "display_name": "Python 3"
    },
    "colab": {
      "name": " Keras Model.ipynb",
      "provenance": [],
      "collapsed_sections": [],
      "machine_shape": "hm"
    },
    "accelerator": "GPU"
  },
  "cells": [
    {
      "cell_type": "code",
      "metadata": {
        "id": "lt_fDWnUI_34"
      },
      "source": [
        "import os, shutil\n",
        "import matplotlib.pyplot as plt\n",
        "import numpy as np\n",
        "import pandas as pd\n",
        "%matplotlib inline\n",
        "import seaborn as sns\n",
        "sns.set_style('darkgrid')\n",
        "\n",
        "import warnings\n",
        "warnings.filterwarnings('ignore')"
      ],
      "execution_count": null,
      "outputs": []
    },
    {
      "cell_type": "code",
      "metadata": {
        "id": "5IJFR_maI_39"
      },
      "source": [
        "from PIL import Image\n",
        "from keras.utils import plot_model\n",
        "from IPython.display import Image \n",
        "\n",
        "# preprocessing\n",
        "from keras.preprocessing.image import ImageDataGenerator, array_to_img, img_to_array, load_img\n",
        "\n",
        "# modelling\n",
        "import keras\n",
        "import tensorflow as tf\n",
        "from keras import layers\n",
        "from keras import models\n",
        "from keras import utils\n",
        "from keras import optimizers\n",
        "from keras.models import Sequential\n",
        "from keras.losses import binary_crossentropy, categorical_crossentropy\n",
        "from keras.optimizers import SGD, Adam\n",
        "from keras.applications.vgg19 import VGG19\n",
        "from keras import losses\n",
        "from keras.layers import Activation, BatchNormalization, Conv2D, Dense, Dropout, Flatten, MaxPooling2D\n",
        "import math \n",
        "\n",
        "# callbacks\n",
        "from keras.callbacks import History\n",
        "\n",
        "from google.colab import drive\n",
        "drive.mount('/content/gdrive')"
      ],
      "execution_count": null,
      "outputs": []
    },
    {
      "cell_type": "code",
      "metadata": {
        "id": "LXlMWoxcTW5q"
      },
      "source": [
        "from tensorflow.python.client import device_lib\n",
        "\n",
        "print(device_lib.list_local_devices())"
      ],
      "execution_count": null,
      "outputs": []
    },
    {
      "cell_type": "code",
      "metadata": {
        "id": "cNYvLA60I_4A"
      },
      "source": [
        "IMAGE_PATH = \"/content/gdrive/My Drive/Colab Notebooks/melanoma_classification/siim-isic-melanoma-classification/torch_jpeg/\"\n",
        "\n",
        "train_folder = os.path.join(IMAGE_PATH, 'train')\n",
        "test_folder = os.path.join(IMAGE_PATH, 'test')\n"
      ],
      "execution_count": null,
      "outputs": []
    },
    {
      "cell_type": "code",
      "metadata": {
        "id": "kGzu49R_k-mi"
      },
      "source": [
        "np.random.seed(0)"
      ],
      "execution_count": null,
      "outputs": []
    },
    {
      "cell_type": "code",
      "metadata": {
        "id": "XSG4FrczI_4D",
        "cellView": "both"
      },
      "source": [
        "#train_benign = os.path.join(IMAGE_PATH + 'train' + '/', 'benign')\n",
        "#test_benign = os.path.join(IMAGE_PATH + 'test' + '/', 'benign')\n",
        "#files = os.listdir(train_benign)\n",
        "#for f in files:\n",
        "#  if np.random.rand(1) < .2:\n",
        "#    shutil.move(train_benign + '/' + f, test_benign + '/' + f )\n",
        "\n",
        "#train_malignant = os.path.join(IMAGE_PATH + 'train' + '/', 'malignant')\n",
        "#test_malignant = os.path.join(IMAGE_PATH + 'test' + '/', 'malignant')\n",
        "#files = os.listdir(train_malignant)\n",
        "#for f in files:\n",
        "#  if np.random.rand(1) < .2:\n",
        "#    shutil.move(train_malignant + '/' + f, test_malignant + '/' + f )"
      ],
      "execution_count": null,
      "outputs": []
    },
    {
      "cell_type": "code",
      "metadata": {
        "id": "-fjqumrtI_4Y"
      },
      "source": [
        "train_datagen = ImageDataGenerator(\n",
        "        rescale=1./255,\n",
        "        shear_range=0.2,\n",
        "        zoom_range=0.3,\n",
        "        rotation_range=30,\n",
        "        horizontal_flip=True,\n",
        "      #  vertical_flip=True,\n",
        "        validation_split = 0.2)\n",
        "\n",
        "# get all the data in the directory /train and reshape them\n",
        "train_generator = train_datagen.flow_from_directory(\n",
        "        train_folder, \n",
        "        target_size=(512, 512),  \n",
        "        batch_size=1000,\n",
        "        classes=['benign', 'malignant'])\n",
        "\n",
        "# get all the data in the directory /train and reshape them\n",
        "test_generator = train_datagen.flow_from_directory(\n",
        "        test_folder, \n",
        "        target_size=(512, 512), \n",
        "        batch_size = 200,\n",
        "        classes=['benign', 'malignant']\n",
        "        ) \n",
        "\n",
        "# get all the data in the directory /val and reshape them\n",
        "val_generator = train_datagen.flow_from_directory(\n",
        "        train_folder,\n",
        "        target_size=(512, 512), \n",
        "        batch_size= 160,\n",
        "        # class_mode='binary',\n",
        "        subset='validation',\n",
        "        classes=['benign', 'malignant'])\n",
        "\n",
        "\n"
      ],
      "execution_count": null,
      "outputs": []
    },
    {
      "cell_type": "code",
      "metadata": {
        "id": "ftjTPgooI_4a"
      },
      "source": [
        "train_images, train_labels = next(train_generator)\n",
        "test_images, test_labels = next(test_generator)\n",
        "val_images, val_labels = next(val_generator)"
      ],
      "execution_count": null,
      "outputs": []
    },
    {
      "cell_type": "code",
      "metadata": {
        "id": "TEnzqr40I_4d",
        "cellView": "code"
      },
      "source": [
        "#@title Default title text\n",
        "\n",
        "#preview training image\n",
        "array_to_img(train_images[233])\n"
      ],
      "execution_count": null,
      "outputs": []
    },
    {
      "cell_type": "code",
      "metadata": {
        "id": "FmR4cm--lAIf"
      },
      "source": [
        "#preview training image\n",
        "array_to_img(train_images[5])"
      ],
      "execution_count": null,
      "outputs": []
    },
    {
      "cell_type": "code",
      "metadata": {
        "id": "TDtvJ4xSk_zi"
      },
      "source": [
        "#preview training image\n",
        "array_to_img(train_images[84])"
      ],
      "execution_count": null,
      "outputs": []
    },
    {
      "cell_type": "code",
      "metadata": {
        "id": "_pcyWMayI_4f"
      },
      "source": [
        "# get shape of images in train and test\n",
        "\n",
        "print(np.shape(train_images))\n",
        "print(np.shape(train_labels))\n",
        "print(np.shape(test_images))\n",
        "print(np.shape(test_labels))\n",
        "print(np.shape(val_images))\n",
        "print(np.shape(val_labels))"
      ],
      "execution_count": null,
      "outputs": []
    },
    {
      "cell_type": "code",
      "metadata": {
        "id": "ATOyeEQTI_4i"
      },
      "source": [
        "\n",
        "# reshape images to contain dimensions into a single vector\n",
        "train_img = train_images.reshape(train_images.shape[0], -1)\n",
        "test_img = test_images.reshape(test_images.shape[0], -1)\n",
        "val_img = val_images.reshape(val_images.shape[0], -1)\n",
        "\n",
        "print(train_img.shape)\n",
        "print(test_img.shape)\n",
        "print(val_img.shape)"
      ],
      "execution_count": null,
      "outputs": []
    },
    {
      "cell_type": "code",
      "metadata": {
        "id": "lLEpaUqOI_4k"
      },
      "source": [
        "# reshape images to contain dimensions into a single vector using batch size\n",
        "train_y = np.reshape(train_labels[:,0], (1000,1))\n",
        "test_y = np.reshape(test_labels[:,0], (200,1))\n",
        "val_y = np.reshape(val_labels[:,0], (160,1))"
      ],
      "execution_count": null,
      "outputs": []
    },
    {
      "cell_type": "code",
      "metadata": {
        "id": "Qexr2LYWI_4m"
      },
      "source": [
        "#preview label to identify class valujes\n",
        "train_labels"
      ],
      "execution_count": null,
      "outputs": []
    },
    {
      "cell_type": "code",
      "metadata": {
        "id": "YIqesrTQI_4p"
      },
      "source": [
        "\n",
        "#identify the categorical values of 0 and 1\n",
        "train_generator.class_indices"
      ],
      "execution_count": null,
      "outputs": []
    },
    {
      "cell_type": "code",
      "metadata": {
        "id": "XMI2NQpAI_4s"
      },
      "source": [
        "train_labels_final = train_labels.T[[1]]\n",
        "np.shape(train_labels_final)\n"
      ],
      "execution_count": null,
      "outputs": []
    },
    {
      "cell_type": "code",
      "metadata": {
        "id": "FSAouB2eI_4t"
      },
      "source": [
        "test_labels_final = test_labels.T[[1]]\n",
        "np.shape(test_labels_final)"
      ],
      "execution_count": null,
      "outputs": []
    },
    {
      "cell_type": "code",
      "metadata": {
        "id": "UdPotv1AI_4w"
      },
      "source": [
        "array_to_img(train_images[210])"
      ],
      "execution_count": null,
      "outputs": []
    },
    {
      "cell_type": "code",
      "metadata": {
        "id": "cI6wFuqDI_4x"
      },
      "source": [
        "train_labels_final[:,210]"
      ],
      "execution_count": null,
      "outputs": []
    },
    {
      "cell_type": "markdown",
      "metadata": {
        "id": "MFYN3Jd9I_4z"
      },
      "source": [
        "### Base CNN Model"
      ]
    },
    {
      "cell_type": "code",
      "metadata": {
        "id": "QuLmmhiLI_40"
      },
      "source": [
        "# model = models.Sequential()\n",
        "# model.add(layers.Conv2D(32, (3, 3), activation='relu', input_shape=(256, 256, 3)))\n",
        "# model.add(layers.MaxPooling2D((2, 2)))\n",
        "# model.add(layers.Conv2D(64, (3, 3), activation='relu'))\n",
        "# model.add(layers.MaxPooling2D((2, 2)))\n",
        "# model.add(layers.Conv2D(64, (3, 3), activation='relu'))\n",
        " \n",
        "# model.add(layers.Flatten())\n",
        "# model.add(layers.Dense(10, activation='softmax'))\n",
        "\n",
        "\n",
        "base_model = models.Sequential()\n",
        "base_model.add(layers.Conv2D(32, (3, 3), activation='relu',\n",
        "                        input_shape=(512, 512,  3)))\n",
        "base_model.add(layers.MaxPooling2D((2, 2)))\n",
        "\n",
        "base_model.add(layer.dropout(.3))\n",
        "base_model.add(layers.Conv2D(32, (4, 4), activation='relu'))\n",
        "base_model.add(layers.MaxPooling2D((2, 2)))\n",
        "\n",
        "base_model.add(layer.dropout(.3))\n",
        "base_model.add(layers.Conv2D(64, (3, 3), activation='relu'))\n",
        "base_model.add(layers.MaxPooling2D((2, 2)))\n",
        "\n",
        "base_model.add(layer.dropout(.3))\n",
        "base_model.add(layers.Flatten())\n",
        "# base_model.add(layers.Dense(64, activation='relu'))\n",
        "base_model.add(layers.Dense(1, activation='sigmoid'))\n",
        "\n",
        "base_model.compile(loss='binary_crossentropy',\n",
        "              optimizer='sgd',\n",
        "              metrics=['accuracy'])\n",
        " \n",
        "# model.compile(loss='sparse_categorical_crossentropy',\n",
        "#               optimizer='sgd',\n",
        "#               metrics=['accuracy'])\n",
        "\n",
        "base_model.summary()"
      ],
      "execution_count": null,
      "outputs": []
    },
    {
      "cell_type": "code",
      "metadata": {
        "id": "fDfZ-9A5I_41"
      },
      "source": [
        "plot_model(base_model, show_shapes=True, show_layer_names=True)"
      ],
      "execution_count": null,
      "outputs": []
    },
    {
      "cell_type": "code",
      "metadata": {
        "id": "yj1ZY8MrI_44"
      },
      "source": [
        "history = base_model.fit(train_images,\n",
        "          train_y,\n",
        "          epochs=10,\n",
        "          batch_size=16,\n",
        "          validation_data=(val_images, val_y))"
      ],
      "execution_count": null,
      "outputs": []
    },
    {
      "cell_type": "code",
      "metadata": {
        "id": "lUoBUt0nI_46"
      },
      "source": [
        "results_train = base_model.evaluate(train_images, train_y)"
      ],
      "execution_count": null,
      "outputs": []
    },
    {
      "cell_type": "code",
      "metadata": {
        "id": "XFOUHZ_SI_48"
      },
      "source": [
        "results_test = base_model.evaluate(test_images, test_y)"
      ],
      "execution_count": null,
      "outputs": []
    },
    {
      "cell_type": "code",
      "metadata": {
        "id": "LnaFZEwQI_4-"
      },
      "source": [
        "results_train"
      ],
      "execution_count": null,
      "outputs": []
    },
    {
      "cell_type": "code",
      "metadata": {
        "id": "1wAfzZM5I_5A"
      },
      "source": [
        "results_test"
      ],
      "execution_count": null,
      "outputs": []
    },
    {
      "cell_type": "code",
      "metadata": {
        "scrolled": true,
        "id": "bkG6XQCzI_5C"
      },
      "source": [
        "def visualize_training_results(results):\n",
        "    history = results.history\n",
        "    plt.figure()\n",
        "    plt.plot(history['val_loss'])\n",
        "    plt.plot(history['loss'])\n",
        "    plt.legend(['val_loss', 'loss'])\n",
        "    plt.title('Loss')\n",
        "    plt.xlabel('Epochs')\n",
        "    plt.ylabel('Loss')\n",
        "    plt.show()\n",
        "    \n",
        "    plt.figure()\n",
        "    plt.plot(history['val_accuracy'])\n",
        "    plt.plot(history['accuracy'])\n",
        "    plt.legend(['val_accuracy', 'accuracy'])\n",
        "    plt.title('Accuracy')\n",
        "    plt.xlabel('Epochs')\n",
        "    plt.ylabel('Accuracy')\n",
        "    plt.show()\n",
        "\n",
        "visualize_training_results(history)"
      ],
      "execution_count": null,
      "outputs": []
    },
    {
      "cell_type": "markdown",
      "metadata": {
        "id": "Z0Kp8wHhI_5E"
      },
      "source": [
        "### Model 2"
      ]
    },
    {
      "cell_type": "code",
      "metadata": {
        "id": "TzlRgiGhI_5E"
      },
      "source": [
        "base2_model = models.Sequential()\n",
        "base2_model.add(layers.Conv2D(32, (3, 3), activation='relu',\n",
        "                        input_shape=(512, 512,  3)))\n",
        "base2_model.add(layers.MaxPooling2D((2, 2)))\n",
        "\n",
        "base2_model.add(layer.dropout(.3))\n",
        "base2_model.add(layers.Conv2D(32, (4, 4), activation='relu'))\n",
        "base2_model.add(layers.MaxPooling2D((2, 2)))\n",
        "\n",
        "base_model.add(layer.dropout(.3))\n",
        "base2_model.add(layers.Conv2D(64, (3, 3), activation='relu'))\n",
        "base2_model.add(layers.MaxPooling2D((2, 2)))\n",
        "\n",
        "base_model.add(layer.dropout(.3))\n",
        "base2_model.add(layers.Flatten())\n",
        "# base2_model.add(layers.Dense(64, activation='relu'))\n",
        "base2_model.add(layers.Dense(1, activation='sigmoid'))\n",
        "\n",
        "base2_model.compile(loss='binary_crossentropy',\n",
        "              optimizer='sgd',\n",
        "              metrics=['accuracy']) \n",
        "\n",
        "base2_model.summary()"
      ],
      "execution_count": null,
      "outputs": []
    },
    {
      "cell_type": "code",
      "metadata": {
        "id": "XNuvhm7MI_5G"
      },
      "source": [
        "plot_model(base2_model, show_shapes=True, show_layer_names=True)"
      ],
      "execution_count": null,
      "outputs": []
    },
    {
      "cell_type": "code",
      "metadata": {
        "id": "aqt9LfavI_5I"
      },
      "source": [
        "history = base2_model.fit(train_images,\n",
        "          train_y,\n",
        "          epochs=40,\n",
        "          batch_size=16,\n",
        "          validation_data=(val_images, val_y))"
      ],
      "execution_count": null,
      "outputs": []
    },
    {
      "cell_type": "code",
      "metadata": {
        "id": "ql1z7-aKI_5K"
      },
      "source": [
        "results_train = base2_model.evaluate(train_images, train_y)"
      ],
      "execution_count": null,
      "outputs": []
    },
    {
      "cell_type": "code",
      "metadata": {
        "id": "ubWTWFoBI_5M"
      },
      "source": [
        "results_test = base2_model.evaluate(test_images, test_y)"
      ],
      "execution_count": null,
      "outputs": []
    },
    {
      "cell_type": "code",
      "metadata": {
        "id": "4xWKoHQ3I_5Q"
      },
      "source": [
        "results_train"
      ],
      "execution_count": null,
      "outputs": []
    },
    {
      "cell_type": "code",
      "metadata": {
        "id": "yL8eXf-NI_5S"
      },
      "source": [
        "results_test"
      ],
      "execution_count": null,
      "outputs": []
    },
    {
      "cell_type": "code",
      "metadata": {
        "scrolled": true,
        "id": "Ndjd48NVI_5U"
      },
      "source": [
        "visualize_training_results(history)\n",
        "\n"
      ],
      "execution_count": null,
      "outputs": []
    },
    {
      "cell_type": "code",
      "metadata": {
        "id": "Dh0jraBnPUHQ"
      },
      "source": [
        "from sklearn.metrics import classification_report, confusion_matrix\n",
        "\n",
        "y_pred = base_model.predict(test_images, batch_size=32)\n",
        "y_pred_bool = np.argmax(y_pred, axis=1)\n",
        "\n",
        "print(classification_report(test_y, y_pred_bool))"
      ],
      "execution_count": null,
      "outputs": []
    },
    {
      "cell_type": "code",
      "metadata": {
        "id": "Vp_0kRs5PT50"
      },
      "source": [
        "confusion_matrix(test_y, y_pred_bool)"
      ],
      "execution_count": null,
      "outputs": []
    },
    {
      "cell_type": "code",
      "metadata": {
        "id": "cfJSeVmARRf6"
      },
      "source": [
        "confusion_matrix_df = pd.DataFrame(confusion_matrix(test_y, y_pred_bool)).rename(columns=train_generator.class_indices, index=train_generator.class_indices)\n",
        "fig, ax = plt.subplots(figsize=(7,5))         \n",
        "sns.heatmap(confusion_matrix_df, annot=True, ax=ax)"
      ],
      "execution_count": null,
      "outputs": []
    },
    {
      "cell_type": "code",
      "metadata": {
        "id": "KXWsEJ9GbtjK"
      },
      "source": [
        ""
      ],
      "execution_count": null,
      "outputs": []
    },
    {
      "cell_type": "code",
      "metadata": {
        "id": "-BDnWHZwbt5W"
      },
      "source": [
        "\n",
        "\n",
        "y_pred = base2_model.predict(test_images, batch_size=128)\n",
        "y_pred_bool = np.argmax(y_pred, axis=1)\n",
        "\n",
        "print(classification_report(test_y, y_pred_bool))"
      ],
      "execution_count": null,
      "outputs": []
    },
    {
      "cell_type": "code",
      "metadata": {
        "id": "xfJ6R-Nwbt5a"
      },
      "source": [
        "confusion_matrix(test_y, y_pred_bool)"
      ],
      "execution_count": null,
      "outputs": []
    },
    {
      "cell_type": "code",
      "metadata": {
        "id": "bINTu5etbt5d"
      },
      "source": [
        "confusion_matrix_df = pd.DataFrame(confusion_matrix(test_y, y_pred_bool)).rename(columns=train_generator.class_indices, index=train_generator.class_indices)\n",
        "fig, ax = plt.subplots(figsize=(7,5))         \n",
        "sns.heatmap(confusion_matrix_df, annot=True, ax=ax)"
      ],
      "execution_count": null,
      "outputs": []
    },
    {
      "cell_type": "code",
      "metadata": {
        "id": "xhYQiRHWbyHD"
      },
      "source": [
        ""
      ],
      "execution_count": null,
      "outputs": []
    }
  ]
}