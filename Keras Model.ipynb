{
 "cells": [
  {
   "cell_type": "code",
   "execution_count": null,
   "metadata": {},
   "outputs": [],
   "source": [
    "import os, shutil\n",
    "import matplotlib.pyplot as plt\n",
    "import numpy as np\n",
    "import pandas as pd\n",
    "%matplotlib inline\n",
    "import seaborn as sns\n",
    "sns.set_style('darkgrid')\n",
    "\n",
    "import warnings\n",
    "warnings.filterwarnings('ignore')"
   ]
  },
  {
   "cell_type": "code",
   "execution_count": null,
   "metadata": {},
   "outputs": [],
   "source": [
    "from PIL import Image\n",
    "from keras.utils import plot_model\n",
    "from IPython.display import Image \n",
    "\n",
    "# preprocessing\n",
    "from keras.preprocessing.image import ImageDataGenerator, array_to_img, img_to_array, load_img\n",
    "\n",
    "# modelling\n",
    "import keras\n",
    "import tensorflow as tf\n",
    "from keras import layers\n",
    "from keras import models\n",
    "from keras import utils\n",
    "from keras import optimizers\n",
    "from keras.models import Sequential\n",
    "from keras.losses import binary_crossentropy, sparse_categorical_crossentropy\n",
    "from keras.optimizers import SGD, Adam\n",
    "from keras.applications.vgg19 import VGG19\n",
    "from keras import losses\n",
    "from keras.layers import Activation, BatchNormalization, Conv2D, Dense, Dropout, Flatten, MaxPooling2D\n",
    "import math \n",
    "\n",
    "# callbacks\n",
    "from keras.callbacks import History"
   ]
  },
  {
   "cell_type": "code",
   "execution_count": null,
   "metadata": {},
   "outputs": [],
   "source": [
    "IMAGE_PATH = \"siim-isic-melanoma-classification/jpeg\"\n",
    "\n",
    "train_folder = os.path.join(IMAGE_PATH, 'train')\n",
    "test_folder = os.path.join(IMAGE_PATH, 'test')\n",
    "# val_folder = os.path.join(IMAGE_PATH, 'val')\n",
    "\n",
    "# train_df = pd.read_csv('siim-isic-melanoma-classification/train.csv')\n",
    "# test_df = pd.read_csv('siim-isic-melanoma-classification/test.csv')\n",
    "\n",
    "# #Training data\n",
    "# print('Training data shape: ', train_df.shape)\n",
    "# train_df.head(5)"
   ]
  },
  {
   "cell_type": "code",
   "execution_count": null,
   "metadata": {},
   "outputs": [],
   "source": [
    "# train_df.groupby(['benign_malignant']).count()['sex'].to_frame()"
   ]
  },
  {
   "cell_type": "code",
   "execution_count": null,
   "metadata": {
    "scrolled": true
   },
   "outputs": [],
   "source": [
    "# train_df.info()"
   ]
  },
  {
   "cell_type": "code",
   "execution_count": null,
   "metadata": {},
   "outputs": [],
   "source": [
    "#test_df.info()"
   ]
  },
  {
   "cell_type": "code",
   "execution_count": null,
   "metadata": {},
   "outputs": [],
   "source": [
    "# images_df = train_df[['image_name', 'benign_malignant']]\n",
    "\n",
    "# images_df.head()"
   ]
  },
  {
   "cell_type": "code",
   "execution_count": null,
   "metadata": {},
   "outputs": [],
   "source": [
    "# benign = images_df[images_df['benign_malignant']=='benign']\n",
    "# malignant = images_df[images_df['benign_malignant']=='malignant']"
   ]
  },
  {
   "cell_type": "code",
   "execution_count": null,
   "metadata": {},
   "outputs": [],
   "source": [
    "#benign['image_name'] = benign['image_name'].astype(str) + '.jpg'\n",
    "#malignant['image_name'] = malignant['image_name'].astype(str) + '.jpg'"
   ]
  },
  {
   "cell_type": "code",
   "execution_count": null,
   "metadata": {},
   "outputs": [],
   "source": [
    "#images = malignant['image_name'].values\n",
    "\n",
    "# benign_dir = train_folder+'/benign'"
   ]
  },
  {
   "cell_type": "code",
   "execution_count": null,
   "metadata": {},
   "outputs": [],
   "source": [
    "#for i in images:\n",
    "#    i = os.path.join(train_folder, i)\n",
    "#    os.remove(i)"
   ]
  },
  {
   "cell_type": "code",
   "execution_count": null,
   "metadata": {},
   "outputs": [],
   "source": [
    "train_datagen = ImageDataGenerator(rescale=1./255,\n",
    "    shear_range=0.2,\n",
    "    zoom_range=0.2,\n",
    "    horizontal_flip=True,\n",
    "    validation_split=0.2) # set validation split\n",
    "\n",
    "# get all the data in the directory /train and reshape them\n",
    "train_generator = train_datagen.flow_from_directory(\n",
    "        train_folder, \n",
    "        target_size=(224, 224),  \n",
    "        batch_size=3479,\n",
    "        classes=['benign', 'malignant'])\n",
    "\n",
    "# get all the data in the directory /train and reshape them\n",
    "test_generator = train_datagen.flow_from_directory(\n",
    "        test_folder, \n",
    "        target_size=(224, 224), \n",
    "        # batch_size = 874,\n",
    "        classes=['benign', 'malignant']) \n",
    "\n",
    "# get all the data in the directory /val and reshape them\n",
    "val_generator = train_datagen.flow_from_directory(\n",
    "        train_folder,\n",
    "        target_size=(224, 224), \n",
    "        class_mode='binary',\n",
    "        subset='validation')\n",
    "\n",
    "\n"
   ]
  },
  {
   "cell_type": "code",
   "execution_count": null,
   "metadata": {},
   "outputs": [],
   "source": [
    "train_images, train_labels = next(train_generator)\n",
    "test_images, test_labels = next(test_generator)\n",
    "val_images, val_labels = next(val_generator)"
   ]
  },
  {
   "cell_type": "code",
   "execution_count": null,
   "metadata": {},
   "outputs": [],
   "source": [
    "\n",
    "#preview training image\n",
    "array_to_img(train_images[145])\n"
   ]
  },
  {
   "cell_type": "code",
   "execution_count": null,
   "metadata": {},
   "outputs": [],
   "source": [
    "# get shape of images in train and test\n",
    "\n",
    "print(np.shape(train_images))\n",
    "print(np.shape(train_labels))\n",
    "print(np.shape(test_images))\n",
    "print(np.shape(test_labels))"
   ]
  },
  {
   "cell_type": "code",
   "execution_count": null,
   "metadata": {},
   "outputs": [],
   "source": [
    "\n",
    "# reshape images to contain dimensions into a single vector\n",
    "train_img = train_images.reshape(train_images.shape[0], -1)\n",
    "test_img = test_images.reshape(test_images.shape[0], -1)\n",
    "val_img = val_images.reshape(val_images.shape[0], -1)\n",
    "\n",
    "print(train_img.shape)\n",
    "print(test_img.shape)\n",
    "print(val_img.shape)"
   ]
  },
  {
   "cell_type": "code",
   "execution_count": null,
   "metadata": {},
   "outputs": [],
   "source": [
    "# reshape images to contain dimensions into a single vector\n",
    "train_y = np.reshape(train_labels[:,0], (3377,1))\n",
    "test_y = np.reshape(test_labels[:,0], (1073,1))\n",
    "val_y = np.reshape(val_labels[:,0], (873,1))"
   ]
  },
  {
   "cell_type": "code",
   "execution_count": null,
   "metadata": {},
   "outputs": [],
   "source": [
    "#preview label to identify class valujes\n",
    "train_labels"
   ]
  },
  {
   "cell_type": "code",
   "execution_count": null,
   "metadata": {},
   "outputs": [],
   "source": [
    "\n",
    "#identify the categorical values of 0 and 1\n",
    "train_generator.class_indices"
   ]
  },
  {
   "cell_type": "code",
   "execution_count": null,
   "metadata": {},
   "outputs": [],
   "source": [
    "train_labels_final = train_labels.T[[1]]\n",
    "np.shape(train_labels_final)\n"
   ]
  },
  {
   "cell_type": "code",
   "execution_count": null,
   "metadata": {},
   "outputs": [],
   "source": [
    "test_labels_final = test_labels.T[[1]]\n",
    "np.shape(test_labels_final)"
   ]
  },
  {
   "cell_type": "code",
   "execution_count": null,
   "metadata": {},
   "outputs": [],
   "source": [
    "array_to_img(train_images[210])"
   ]
  },
  {
   "cell_type": "code",
   "execution_count": null,
   "metadata": {},
   "outputs": [],
   "source": [
    "train_labels_final[:,210]"
   ]
  },
  {
   "cell_type": "markdown",
   "metadata": {},
   "source": [
    "### Base CNN Model"
   ]
  },
  {
   "cell_type": "code",
   "execution_count": null,
   "metadata": {},
   "outputs": [],
   "source": [
    "np.random.seed(123)\n",
    "\n",
    "# model = models.Sequential()\n",
    "# model.add(layers.Conv2D(32, (3, 3), activation='relu', input_shape=(256, 256, 3)))\n",
    "# model.add(layers.MaxPooling2D((2, 2)))\n",
    "# model.add(layers.Conv2D(64, (3, 3), activation='relu'))\n",
    "# model.add(layers.MaxPooling2D((2, 2)))\n",
    "# model.add(layers.Conv2D(64, (3, 3), activation='relu'))\n",
    " \n",
    "# model.add(layers.Flatten())\n",
    "# model.add(layers.Dense(10, activation='softmax'))\n",
    "\n",
    "\n",
    "base_model = models.Sequential()\n",
    "base_model.add(layers.Conv2D(32, (3, 3), activation='relu',\n",
    "                        input_shape=(256 ,256,  3)))\n",
    "base_model.add(layers.MaxPooling2D((2, 2)))\n",
    "\n",
    "base_model.add(layers.Conv2D(32, (4, 4), activation='relu'))\n",
    "base_model.add(layers.MaxPooling2D((2, 2)))\n",
    "\n",
    "base_model.add(layers.Conv2D(64, (3, 3), activation='relu'))\n",
    "base_model.add(layers.MaxPooling2D((2, 2)))\n",
    "\n",
    "base_model.add(layers.Flatten())\n",
    "base_model.add(layers.Dense(64, activation='relu'))\n",
    "base_model.add(layers.Dense(1, activation='sigmoid'))\n",
    "\n",
    "base_model.compile(loss='binary_crossentropy',\n",
    "              optimizer='sgd',\n",
    "              metrics=['accuracy'])\n",
    " \n",
    "# model.compile(loss='sparse_categorical_crossentropy',\n",
    "#               optimizer='sgd',\n",
    "#               metrics=['accuracy'])\n",
    "\n",
    "base_model.summary()"
   ]
  },
  {
   "cell_type": "code",
   "execution_count": null,
   "metadata": {},
   "outputs": [],
   "source": [
    "plot_model(base_model, show_shapes=True, show_layer_names=True)"
   ]
  },
  {
   "cell_type": "code",
   "execution_count": null,
   "metadata": {},
   "outputs": [],
   "source": [
    "history = base_model.fit(train_images,\n",
    "          train_y,\n",
    "          epochs=10,\n",
    "          batch_size=128,\n",
    "          validation_data=(val_images, val_y))"
   ]
  },
  {
   "cell_type": "code",
   "execution_count": null,
   "metadata": {},
   "outputs": [],
   "source": [
    "results_train = base_model.evaluate(train_images, train_y)"
   ]
  },
  {
   "cell_type": "code",
   "execution_count": null,
   "metadata": {},
   "outputs": [],
   "source": [
    "results_test = base_model.evaluate(test_images, test_y)"
   ]
  },
  {
   "cell_type": "code",
   "execution_count": null,
   "metadata": {},
   "outputs": [],
   "source": [
    "results_train"
   ]
  },
  {
   "cell_type": "code",
   "execution_count": null,
   "metadata": {},
   "outputs": [],
   "source": [
    "results_test"
   ]
  },
  {
   "cell_type": "code",
   "execution_count": null,
   "metadata": {
    "scrolled": true
   },
   "outputs": [],
   "source": [
    "visualize_training_results(history)"
   ]
  },
  {
   "cell_type": "markdown",
   "metadata": {},
   "source": [
    "### Model 2"
   ]
  },
  {
   "cell_type": "code",
   "execution_count": null,
   "metadata": {},
   "outputs": [],
   "source": [
    "np.random.seed(123)\n",
    "\n",
    "base_model = models.Sequential()\n",
    "high_base_model.add(layers.Conv2D(32, (3, 3), activation='relu',\n",
    "                        input_shape=(256 ,256,  3)))\n",
    "high_base_model.add(layers.MaxPooling2D((2, 2)))\n",
    "\n",
    "high_base_model.add(layers.Conv2D(32, (4, 4), activation='relu'))\n",
    "high_base_model.add(layers.MaxPooling2D((2, 2)))\n",
    "\n",
    "high_base_model.add(layers.Conv2D(64, (3, 3), activation='relu'))\n",
    "high_base_model.add(layers.MaxPooling2D((2, 2)))\n",
    "\n",
    "high_base_model.add(layers.Flatten())\n",
    "high_base_model.add(layers.Dense(64, activation='relu'))\n",
    "high_base_model.add(layers.Dense(1, activation='sigmoid'))\n",
    "\n",
    "high_base_model.compile(loss='binary_crossentropy',\n",
    "              optimizer='sgd',\n",
    "              metrics=['accuracy']) \n",
    "\n",
    "high_base_model.summary()"
   ]
  },
  {
   "cell_type": "code",
   "execution_count": null,
   "metadata": {},
   "outputs": [],
   "source": [
    "plot_model(high_base_model, show_shapes=True, show_layer_names=True)"
   ]
  },
  {
   "cell_type": "code",
   "execution_count": null,
   "metadata": {},
   "outputs": [],
   "source": [
    "history = high_base_model.fit(train_images,\n",
    "          train_y,\n",
    "          epochs=5,\n",
    "          batch_size=64,\n",
    "          validation_data=(val_images, val_y))"
   ]
  },
  {
   "cell_type": "code",
   "execution_count": null,
   "metadata": {},
   "outputs": [],
   "source": [
    "results_train = high_base_model.evaluate(train_images, train_y)"
   ]
  },
  {
   "cell_type": "code",
   "execution_count": null,
   "metadata": {},
   "outputs": [],
   "source": [
    "results_test = high_base_model.evaluate(test_images, test_y)"
   ]
  },
  {
   "cell_type": "code",
   "execution_count": null,
   "metadata": {},
   "outputs": [],
   "source": [
    "results_train"
   ]
  },
  {
   "cell_type": "code",
   "execution_count": null,
   "metadata": {},
   "outputs": [],
   "source": [
    "results_test"
   ]
  },
  {
   "cell_type": "code",
   "execution_count": null,
   "metadata": {
    "scrolled": true
   },
   "outputs": [],
   "source": [
    "visualize_training_results(history)"
   ]
  }
 ],
 "metadata": {
  "kernelspec": {
   "display_name": "Python [conda env:learn-env] *",
   "language": "python",
   "name": "conda-env-learn-env-py"
  },
  "language_info": {
   "codemirror_mode": {
    "name": "ipython",
    "version": 3
   },
   "file_extension": ".py",
   "mimetype": "text/x-python",
   "name": "python",
   "nbconvert_exporter": "python",
   "pygments_lexer": "ipython3",
   "version": "3.6.9"
  }
 },
 "nbformat": 4,
 "nbformat_minor": 2
}
